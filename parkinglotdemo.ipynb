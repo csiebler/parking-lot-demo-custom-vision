{
  "cells": [
    {
      "metadata": {
        "collapsed": true
      },
      "cell_type": "markdown",
      "source": "# Azure Custom Vision Parking Lot Demo\n"
    },
    {
      "metadata": {
        "trusted": true
      },
      "cell_type": "code",
      "source": "# Replace with valid keys\n\ntraining_key = \"xxxx\"\nprediction_key = \"xxxxx\"\n",
      "execution_count": null,
      "outputs": []
    },
    {
      "metadata": {
        "trusted": true
      },
      "cell_type": "code",
      "source": "!pip install azure-cognitiveservices-vision-customvision\n!pip install urllib",
      "execution_count": null,
      "outputs": []
    },
    {
      "metadata": {
        "trusted": true
      },
      "cell_type": "code",
      "source": "import os\nimport json\nimport time\nimport glob\n\nfrom azure.cognitiveservices.vision.customvision.training import training_api\nfrom azure.cognitiveservices.vision.customvision.training.models import ImageFileCreateEntry, Region\n\ntrainer = training_api.TrainingApi(training_key)\n\n# Find the object detection domain\nobj_detection_domain = next(domain for domain in trainer.get_domains() if domain.type == \"ObjectDetection\")\n\n# Create a new project\nprint (\"Creating project...\")\nproject = trainer.create_project(\n    \"Parking Lot Demo\", domain_id=obj_detection_domain.id)\n\n# Make two tags in the new project\ncar_tag = trainer.create_tag(project.id, \"car\")\n\n# Load training json and add it to the training set\nwith open('training_images/train.json') as f:\n    training_data = json.load(f)\n\nprint (\"Adding images...\")\ntagged_images_with_regions = []\nfor t in training_data:\n    regions = []\n    for r in t[\"regions\"]:\n        regions.append(Region(tag_id=car_tag.id, left=r[\"x\"], top=r[\"y\"], width=r[\"w\"], height=r[\"h\"]))\n      \n    with open(\"training_images/\" + t[\"file\"], mode=\"rb\") as image_contents:\n        tagged_images_with_regions.append(ImageFileCreateEntry(name=t[\"file\"], contents=image_contents.read(), regions=regions))\n\n\ntrainer.create_images_from_files(project.id, images=tagged_images_with_regions)\n\nprint (\"Training...\")\niteration = trainer.train_project(project.id)\nwhile (iteration.status != \"Completed\"):\n    iteration = trainer.get_iteration(project.id, iteration.id)\n    print (\"Training status: \" + iteration.status)\n    time.sleep(1)\n\n# The iteration is now trained. Make it the default project endpoint\ntrainer.update_iteration(project.id, iteration.id, is_default=True)\nprint (\"Done!\")\n    ",
      "execution_count": null,
      "outputs": []
    },
    {
      "metadata": {
        "trusted": true
      },
      "cell_type": "code",
      "source": "import glob\nimport matplotlib.pyplot as plt\nfrom matplotlib.patches import Circle\nfrom PIL import Image\n\nfrom azure.cognitiveservices.vision.customvision.prediction import prediction_endpoint\nfrom azure.cognitiveservices.vision.customvision.prediction.prediction_endpoint import models\n\npredictor = prediction_endpoint.PredictionEndpoint(prediction_key)\n\nfor f in glob.glob(\"test_images/*.jpg\"):\n    with open(f, mode=\"rb\") as test_data:\n        results = predictor.predict_image(project.id, test_data, iteration.id)\n        \n        plt.figure(figsize=(5, 5))\n        image = Image.open(test_data)\n        ax = plt.imshow(image, alpha=0.5)\n        plt.text(0, -10, f, fontsize=12, va=\"top\")\n\n        for p in results.predictions:\n            if p.probability < 0.5:\n                continue\n\n            x = (p.bounding_box.left + p.bounding_box.width/2) * image.width\n            y = (p.bounding_box.top + p.bounding_box.height/2) * image.height\n            text = p.tag_name + \" {0:.2f}%\".format(p.probability * 100)\n            patch  = Circle((x, y), 10, fill=False, linewidth=2, color='y')\n            ax.axes.add_patch(patch)\n            plt.text(x, y, text, fontsize=10, va=\"top\")\n        plt.axis(\"off\")\n",
      "execution_count": null,
      "outputs": []
    },
    {
      "metadata": {
        "trusted": true
      },
      "cell_type": "code",
      "source": "",
      "execution_count": null,
      "outputs": []
    }
  ],
  "metadata": {
    "kernelspec": {
      "name": "python36",
      "display_name": "Python 3.6",
      "language": "python"
    },
    "language_info": {
      "mimetype": "text/x-python",
      "nbconvert_exporter": "python",
      "name": "python",
      "pygments_lexer": "ipython3",
      "version": "3.6.6",
      "file_extension": ".py",
      "codemirror_mode": {
        "version": 3,
        "name": "ipython"
      }
    }
  },
  "nbformat": 4,
  "nbformat_minor": 2
}
